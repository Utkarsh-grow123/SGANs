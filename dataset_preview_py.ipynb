{
  "nbformat": 4,
  "nbformat_minor": 0,
  "metadata": {
    "colab": {
      "name": "dataset_preview.py",
      "provenance": [],
      "collapsed_sections": [],
      "authorship_tag": "ABX9TyMlUYqdx/aaKx4WHV2hREsC",
      "include_colab_link": true
    },
    "kernelspec": {
      "name": "python3",
      "display_name": "Python 3"
    },
    "language_info": {
      "name": "python"
    }
  },
  "cells": [
    {
      "cell_type": "markdown",
      "metadata": {
        "id": "view-in-github",
        "colab_type": "text"
      },
      "source": [
        "<a href=\"https://colab.research.google.com/github/Utkarsh-grow123/SGANs/blob/main/dataset_preview_py.ipynb\" target=\"_parent\"><img src=\"https://colab.research.google.com/assets/colab-badge.svg\" alt=\"Open In Colab\"/></a>"
      ]
    },
    {
      "cell_type": "code",
      "execution_count": null,
      "metadata": {
        "id": "-O_K0YNERPpd"
      },
      "outputs": [],
      "source": [
        "# Import necessary modules\n",
        "import torch\n",
        "from tqdm import tqdm\n",
        "import torchvision\n",
        "import torchvision.transforms as transforms\n",
        "from PIL import Image\n",
        "\n",
        "from torch.utils.data import DataLoader\n",
        "from torchvision import datasets, transforms, utils\n",
        "\n",
        "image_folder_path = './dataset/'\n",
        "\n",
        "def gain_sample(dataset, batch_size, image_size=4):\n",
        "    transform = transforms.Compose([\n",
        "            transforms.Resize(image_size),          # Resize to the same size\n",
        "            transforms.CenterCrop(image_size),      # Crop to get square area\n",
        "            transforms.RandomHorizontalFlip(),      # Increase number of samples\n",
        "            transforms.ToTensor(),            \n",
        "            transforms.Normalize((0.5, 0.5, 0.5),\n",
        "                                 (0.5, 0.5, 0.5))])\n",
        "\n",
        "    dataset.transform = transform\n",
        "    loader = DataLoader(dataset, shuffle=True, batch_size=batch_size, num_workers=4)\n",
        "\n",
        "    return loader\n",
        "\n",
        "dataset        = datasets.ImageFolder(image_folder_path)\n",
        "origin_loader  = gain_sample(dataset, 240, 64)\n",
        "data_loader    = iter(origin_loader)\n",
        "\n",
        "for i in range(10):\n",
        "    real_image, label = next(data_loader)\n",
        "    torchvision.utils.save_image(real_image, f'./previews/preview{i}.png', nrow=24, padding=2, normalize=True, range=(-1,1))"
      ]
    }
  ]
}